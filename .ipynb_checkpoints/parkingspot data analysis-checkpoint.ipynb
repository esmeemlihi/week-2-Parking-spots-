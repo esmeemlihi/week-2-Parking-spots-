{
 "cells": [
  {
   "cell_type": "code",
   "execution_count": 3,
   "metadata": {},
   "outputs": [],
   "source": [
    "import numpy as np\n",
    "import pandas as pd"
   ]
  },
  {
   "cell_type": "code",
   "execution_count": 9,
   "metadata": {},
   "outputs": [
    {
     "data": {
      "text/html": [
       "<div>\n",
       "<style scoped>\n",
       "    .dataframe tbody tr th:only-of-type {\n",
       "        vertical-align: middle;\n",
       "    }\n",
       "\n",
       "    .dataframe tbody tr th {\n",
       "        vertical-align: top;\n",
       "    }\n",
       "\n",
       "    .dataframe thead th {\n",
       "        text-align: right;\n",
       "    }\n",
       "</style>\n",
       "<table border=\"1\" class=\"dataframe\">\n",
       "  <thead>\n",
       "    <tr style=\"text-align: right;\">\n",
       "      <th></th>\n",
       "      <th>WKT</th>\n",
       "      <th>id</th>\n",
       "      <th>geo_id</th>\n",
       "      <th>buurtcode</th>\n",
       "      <th>stadsdeel</th>\n",
       "      <th>straatnaam</th>\n",
       "      <th>aantal</th>\n",
       "      <th>soort</th>\n",
       "      <th>type</th>\n",
       "      <th>e_type</th>\n",
       "      <th>e_type_desc</th>\n",
       "      <th>bord</th>\n",
       "    </tr>\n",
       "  </thead>\n",
       "  <tbody>\n",
       "    <tr>\n",
       "      <td>0</td>\n",
       "      <td>POLYGON ((110677.64 492542.17,110672.28 492543...</td>\n",
       "      <td>110675492544</td>\n",
       "      <td>110675492544</td>\n",
       "      <td>B10g</td>\n",
       "      <td>westpoort_nf</td>\n",
       "      <td>Abidjanweg</td>\n",
       "      <td>1</td>\n",
       "      <td>NIET FISCAAL</td>\n",
       "      <td>Langs</td>\n",
       "      <td>NaN</td>\n",
       "      <td>NaN</td>\n",
       "      <td>NaN</td>\n",
       "    </tr>\n",
       "    <tr>\n",
       "      <td>1</td>\n",
       "      <td>POLYGON ((110683.02 492541.02,110677.64 492542...</td>\n",
       "      <td>110681492543</td>\n",
       "      <td>110681492543</td>\n",
       "      <td>B10g</td>\n",
       "      <td>westpoort_nf</td>\n",
       "      <td>Abidjanweg</td>\n",
       "      <td>1</td>\n",
       "      <td>NIET FISCAAL</td>\n",
       "      <td>Langs</td>\n",
       "      <td>NaN</td>\n",
       "      <td>NaN</td>\n",
       "      <td>NaN</td>\n",
       "    </tr>\n",
       "    <tr>\n",
       "      <td>2</td>\n",
       "      <td>POLYGON ((110683.44 492542.97,110690.81 492541...</td>\n",
       "      <td>110687492541</td>\n",
       "      <td>110686492541</td>\n",
       "      <td>B10g</td>\n",
       "      <td>westpoort_nf</td>\n",
       "      <td>Abidjanweg</td>\n",
       "      <td>1</td>\n",
       "      <td>NIET FISCAAL</td>\n",
       "      <td>Langs</td>\n",
       "      <td>NaN</td>\n",
       "      <td>NaN</td>\n",
       "      <td>NaN</td>\n",
       "    </tr>\n",
       "  </tbody>\n",
       "</table>\n",
       "</div>"
      ],
      "text/plain": [
       "                                                 WKT            id  \\\n",
       "0  POLYGON ((110677.64 492542.17,110672.28 492543...  110675492544   \n",
       "1  POLYGON ((110683.02 492541.02,110677.64 492542...  110681492543   \n",
       "2  POLYGON ((110683.44 492542.97,110690.81 492541...  110687492541   \n",
       "\n",
       "         geo_id buurtcode     stadsdeel  straatnaam  aantal         soort  \\\n",
       "0  110675492544      B10g  westpoort_nf  Abidjanweg       1  NIET FISCAAL   \n",
       "1  110681492543      B10g  westpoort_nf  Abidjanweg       1  NIET FISCAAL   \n",
       "2  110686492541      B10g  westpoort_nf  Abidjanweg       1  NIET FISCAAL   \n",
       "\n",
       "    type e_type e_type_desc bord  \n",
       "0  Langs    NaN         NaN  NaN  \n",
       "1  Langs    NaN         NaN  NaN  \n",
       "2  Langs    NaN         NaN  NaN  "
      ]
     },
     "execution_count": 9,
     "metadata": {},
     "output_type": "execute_result"
    }
   ],
   "source": [
    "parking = pd.read_csv('result.csv').head(3)\n",
    "parking\n",
    "\n"
   ]
  },
  {
   "cell_type": "code",
   "execution_count": 7,
   "metadata": {},
   "outputs": [],
   "source": [
    "parking.to_csv('parking.csv')"
   ]
  },
  {
   "cell_type": "code",
   "execution_count": 8,
   "metadata": {},
   "outputs": [
    {
     "data": {
      "text/plain": [
       "Index(['WKT', 'id', 'geo_id', 'buurtcode', 'stadsdeel', 'straatnaam', 'aantal',\n",
       "       'soort', 'type', 'e_type', 'e_type_desc', 'bord'],\n",
       "      dtype='object')"
      ]
     },
     "execution_count": 8,
     "metadata": {},
     "output_type": "execute_result"
    }
   ],
   "source": [
    "parking.columns"
   ]
  },
  {
   "cell_type": "code",
   "execution_count": null,
   "metadata": {},
   "outputs": [],
   "source": [
    "columns_english = [\"WKT\", \"ID\", \"GEO_ID\", \"NEIGBORHOOD_CODE\", \"URBAN_AREA\", \n",
    "                   \"SREET_NAME\", \"QUANTITY\", \"CATEGORY\", \"TYPE\", \"E_TYPE\", \"E_TYPE_DESC\", \"SIGN\"]"
   ]
  }
 ],
 "metadata": {
  "kernelspec": {
   "display_name": "Python 3",
   "language": "python",
   "name": "python3"
  },
  "language_info": {
   "codemirror_mode": {
    "name": "ipython",
    "version": 3
   },
   "file_extension": ".py",
   "mimetype": "text/x-python",
   "name": "python",
   "nbconvert_exporter": "python",
   "pygments_lexer": "ipython3",
   "version": "3.7.4"
  }
 },
 "nbformat": 4,
 "nbformat_minor": 2
}
